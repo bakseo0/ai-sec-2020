{
  "nbformat": 4,
  "nbformat_minor": 0,
  "metadata": {
    "colab": {
      "name": "cnn_test.ipynb",
      "provenance": [],
      "authorship_tag": "ABX9TyO03TvY7nMiRrW2ST4YQS0f",
      "include_colab_link": true
    },
    "kernelspec": {
      "name": "python3",
      "display_name": "Python 3"
    }
  },
  "cells": [
    {
      "cell_type": "markdown",
      "metadata": {
        "id": "view-in-github",
        "colab_type": "text"
      },
      "source": [
        "<a href=\"https://colab.research.google.com/github/bakseo0/ai-sec-2020/blob/master/cnn_test.ipynb\" target=\"_parent\"><img src=\"https://colab.research.google.com/assets/colab-badge.svg\" alt=\"Open In Colab\"/></a>"
      ]
    },
    {
      "cell_type": "code",
      "metadata": {
        "id": "9BhbbzxgFdVd",
        "colab_type": "code",
        "colab": {}
      },
      "source": [
        "import tensorflow as tf\n",
        "import keras \n",
        "\n",
        "from keras.models import Sequential\n",
        "from keras.layers import Conv2D, MaxPooling2D, Dense, Flatten, AveragePooling2D\n",
        "from keras.optimizers import Adam\n",
        "from keras.losses import sparse_categorical_crossentropy as scc\n",
        "from keras.datasets import cifar10\n",
        "\n",
        "import numpy as np"
      ],
      "execution_count": 7,
      "outputs": []
    },
    {
      "cell_type": "code",
      "metadata": {
        "id": "2--o1xnjFsva",
        "colab_type": "code",
        "colab": {}
      },
      "source": [
        "def build_model(width, height, channel):\n",
        "    model = Sequential() #초기화 \n",
        "    \n",
        "    model.add(Conv2D( #레이어에 대한 정보\n",
        "        filters=16,\n",
        "        kernel_size=(3,3),\n",
        "        padding='same',\n",
        "        activation='relu',\n",
        "        input_shape=(width, height, channel) #첫번째 레이어에는 input_shpae을 넣어줘야함.\n",
        "    ))\n",
        "    model.add(Conv2D(\n",
        "        filters=16,\n",
        "        kernel_size=(3,3),\n",
        "        padding='same',\n",
        "        activation='relu'\n",
        "    ))\n",
        "    model.add(MaxPooling2D( #MaxPooling 사이즈가 반으로 줄어든다. \n",
        "        pool_size=(2,2),\n",
        "        padding='same'\n",
        "    ))\n",
        "\n",
        "    model.add(Conv2D(\n",
        "        filters=32,\n",
        "        kernel_size=(3,3),\n",
        "        padding='same',\n",
        "        activation='relu'\n",
        "    ))\n",
        "    model.add(MaxPooling2D(\n",
        "        pool_size=(2,2),\n",
        "        padding='same'\n",
        "    ))\n",
        "\n",
        "    model.add(Conv2D(\n",
        "        filters=64,\n",
        "        kernel_size=(3,3),\n",
        "        padding='same',\n",
        "        activation='relu'\n",
        "    ))\n",
        "    model.add(AveragePooling2D( #평균값\n",
        "        pool_size=(8,8),\n",
        "        padding='same'\n",
        "    ))\n",
        "\n",
        "    model.add(Flatten())\n",
        "    model.add(Dense(\n",
        "        units=640,\n",
        "        activation='relu'\n",
        "    ))\n",
        "    model.add(Dense(\n",
        "        units=10,\n",
        "        activation='softmax'\n",
        "    ))\n",
        "\n",
        "    opt = Adam(learning_rate=0.001) #Adam optimizer\n",
        "    model.compile(\n",
        "        optimizer=opt,\n",
        "        loss=scc,\n",
        "        metrics=['accuracy']\n",
        "    )\n",
        "\n",
        "    return model"
      ],
      "execution_count": 8,
      "outputs": []
    },
    {
      "cell_type": "code",
      "metadata": {
        "id": "GLAUlUYwFvGR",
        "colab_type": "code",
        "colab": {}
      },
      "source": [
        "def data_preprocessing():\n",
        "    (X_train, Y_train), (X_test, Y_test) = cifar10.load_data()\n",
        "\n",
        "    mean=[0,0,0]\n",
        "    std=[0,0,0]\n",
        "    newX_train = np.ones(X_train.shape)\n",
        "    newX_test = np.ones(X_test.shape)\n",
        "    #train set에 있는 데이터로만 평균과 표준편차를 구함\n",
        "    for i in range(3):\n",
        "        mean[i] = np.mean(X_train[:,:,:,i])\n",
        "        std[i] = np.std(X_train[:,:,:,i])\n",
        "\n",
        "    #train과 test셋 모두 정규화 작업    \n",
        "    for i in range(3):\n",
        "        newX_train[:,:,:,i] = X_train[:,:,:,i] - mean[i]\n",
        "        newX_train[:,:,:,i] = newX_train[:,:,:,i] / std[i]\n",
        "        newX_test[:,:,:,i] = X_test[:,:,:,i] - mean[i]\n",
        "        newX_test[:,:,:,i] = newX_test[:,:,:,i] / std[i]\n",
        "            \n",
        "    X_train = newX_train\n",
        "    X_test = newX_test\n",
        "\n",
        "    return (X_train, Y_train), (X_test, Y_test)"
      ],
      "execution_count": 9,
      "outputs": []
    },
    {
      "cell_type": "code",
      "metadata": {
        "id": "SKW7aWRYFwXB",
        "colab_type": "code",
        "colab": {
          "base_uri": "https://localhost:8080/",
          "height": 1000
        },
        "outputId": "b98a7ff1-9b9e-4d04-b929-f6a2d234d489"
      },
      "source": [
        "#(X_train, Y_train), (X_test, Y_test) = data_preprocessing()\n",
        "(X_train, Y_train), (X_test, Y_test) = cifar10.load_data()\n",
        "\n",
        "\n",
        "model = build_model(X_train.shape[1],X_train.shape[2],X_train.shape[3] )\n",
        "\n",
        "hist = model.fit( #학습 Epoch\n",
        "    X_train, Y_train, \n",
        "    batch_size=64, #64개마다 1번씩 학습 (보통 64를 많이 사용), 학습 속도 향상, 2의 n승 형태로 사용\n",
        "    epochs=40, \n",
        "    verbose=1, #1로 설정\n",
        "    shuffle=True, \n",
        "    validation_split=0.15 #학습데이터의 0.15\n",
        ")\n",
        "\n",
        "model.evaluate(X_test, Y_test, verbose=1)"
      ],
      "execution_count": 10,
      "outputs": [
        {
          "output_type": "stream",
          "text": [
            "Epoch 1/40\n",
            "665/665 [==============================] - 81s 121ms/step - loss: 1.6252 - accuracy: 0.3984 - val_loss: 1.4158 - val_accuracy: 0.4931\n",
            "Epoch 2/40\n",
            "665/665 [==============================] - 82s 124ms/step - loss: 1.2145 - accuracy: 0.5615 - val_loss: 1.1912 - val_accuracy: 0.5689\n",
            "Epoch 3/40\n",
            "665/665 [==============================] - 82s 124ms/step - loss: 1.0375 - accuracy: 0.6293 - val_loss: 1.0232 - val_accuracy: 0.6444\n",
            "Epoch 4/40\n",
            "665/665 [==============================] - 82s 123ms/step - loss: 0.9476 - accuracy: 0.6640 - val_loss: 0.9190 - val_accuracy: 0.6719\n",
            "Epoch 5/40\n",
            "665/665 [==============================] - 82s 123ms/step - loss: 0.8698 - accuracy: 0.6909 - val_loss: 1.0050 - val_accuracy: 0.6564\n",
            "Epoch 6/40\n",
            "665/665 [==============================] - 82s 124ms/step - loss: 0.8137 - accuracy: 0.7115 - val_loss: 0.8417 - val_accuracy: 0.7108\n",
            "Epoch 7/40\n",
            "665/665 [==============================] - 82s 124ms/step - loss: 0.7633 - accuracy: 0.7302 - val_loss: 0.7968 - val_accuracy: 0.7257\n",
            "Epoch 8/40\n",
            "665/665 [==============================] - 82s 123ms/step - loss: 0.7189 - accuracy: 0.7468 - val_loss: 0.8937 - val_accuracy: 0.7036\n",
            "Epoch 9/40\n",
            "665/665 [==============================] - 81s 123ms/step - loss: 0.6934 - accuracy: 0.7540 - val_loss: 0.7678 - val_accuracy: 0.7425\n",
            "Epoch 10/40\n",
            "665/665 [==============================] - 82s 124ms/step - loss: 0.6579 - accuracy: 0.7677 - val_loss: 0.7930 - val_accuracy: 0.7317\n",
            "Epoch 11/40\n",
            "665/665 [==============================] - 82s 124ms/step - loss: 0.6242 - accuracy: 0.7809 - val_loss: 0.8662 - val_accuracy: 0.7057\n",
            "Epoch 12/40\n",
            "665/665 [==============================] - 82s 123ms/step - loss: 0.6010 - accuracy: 0.7865 - val_loss: 0.9014 - val_accuracy: 0.7036\n",
            "Epoch 13/40\n",
            "665/665 [==============================] - 82s 123ms/step - loss: 0.5774 - accuracy: 0.7951 - val_loss: 0.7597 - val_accuracy: 0.7441\n",
            "Epoch 14/40\n",
            "665/665 [==============================] - 82s 123ms/step - loss: 0.5505 - accuracy: 0.8041 - val_loss: 0.8056 - val_accuracy: 0.7347\n",
            "Epoch 15/40\n",
            "665/665 [==============================] - 82s 123ms/step - loss: 0.5344 - accuracy: 0.8096 - val_loss: 0.7390 - val_accuracy: 0.7476\n",
            "Epoch 16/40\n",
            "665/665 [==============================] - 82s 123ms/step - loss: 0.5050 - accuracy: 0.8203 - val_loss: 0.8168 - val_accuracy: 0.7397\n",
            "Epoch 17/40\n",
            "665/665 [==============================] - 82s 124ms/step - loss: 0.4856 - accuracy: 0.8282 - val_loss: 0.7640 - val_accuracy: 0.7445\n",
            "Epoch 18/40\n",
            "665/665 [==============================] - 82s 124ms/step - loss: 0.4643 - accuracy: 0.8347 - val_loss: 0.7867 - val_accuracy: 0.7491\n",
            "Epoch 19/40\n",
            "665/665 [==============================] - 82s 123ms/step - loss: 0.4449 - accuracy: 0.8404 - val_loss: 0.7563 - val_accuracy: 0.7537\n",
            "Epoch 20/40\n",
            "665/665 [==============================] - 82s 123ms/step - loss: 0.4313 - accuracy: 0.8470 - val_loss: 0.8062 - val_accuracy: 0.7501\n",
            "Epoch 21/40\n",
            "665/665 [==============================] - 82s 123ms/step - loss: 0.4032 - accuracy: 0.8554 - val_loss: 0.8249 - val_accuracy: 0.7577\n",
            "Epoch 22/40\n",
            "665/665 [==============================] - 82s 123ms/step - loss: 0.3890 - accuracy: 0.8616 - val_loss: 0.8205 - val_accuracy: 0.7436\n",
            "Epoch 23/40\n",
            "665/665 [==============================] - 82s 123ms/step - loss: 0.3734 - accuracy: 0.8660 - val_loss: 0.9010 - val_accuracy: 0.7431\n",
            "Epoch 24/40\n",
            "665/665 [==============================] - 81s 122ms/step - loss: 0.3677 - accuracy: 0.8677 - val_loss: 0.9519 - val_accuracy: 0.7321\n",
            "Epoch 25/40\n",
            "665/665 [==============================] - 83s 124ms/step - loss: 0.3435 - accuracy: 0.8754 - val_loss: 0.8696 - val_accuracy: 0.7489\n",
            "Epoch 26/40\n",
            "665/665 [==============================] - 82s 123ms/step - loss: 0.3279 - accuracy: 0.8810 - val_loss: 0.9023 - val_accuracy: 0.7565\n",
            "Epoch 27/40\n",
            "665/665 [==============================] - 81s 122ms/step - loss: 0.3215 - accuracy: 0.8839 - val_loss: 0.9464 - val_accuracy: 0.7447\n",
            "Epoch 28/40\n",
            "665/665 [==============================] - 82s 123ms/step - loss: 0.2951 - accuracy: 0.8929 - val_loss: 1.0549 - val_accuracy: 0.7392\n",
            "Epoch 29/40\n",
            "665/665 [==============================] - 82s 124ms/step - loss: 0.3170 - accuracy: 0.8838 - val_loss: 1.1867 - val_accuracy: 0.7079\n",
            "Epoch 30/40\n",
            "665/665 [==============================] - 82s 123ms/step - loss: 0.3037 - accuracy: 0.8909 - val_loss: 0.9722 - val_accuracy: 0.7496\n",
            "Epoch 31/40\n",
            "665/665 [==============================] - 82s 123ms/step - loss: 0.2702 - accuracy: 0.9007 - val_loss: 1.1917 - val_accuracy: 0.7304\n",
            "Epoch 32/40\n",
            "665/665 [==============================] - 81s 122ms/step - loss: 0.2802 - accuracy: 0.8998 - val_loss: 1.0495 - val_accuracy: 0.7423\n",
            "Epoch 33/40\n",
            "665/665 [==============================] - 82s 123ms/step - loss: 0.2429 - accuracy: 0.9118 - val_loss: 1.1240 - val_accuracy: 0.7479\n",
            "Epoch 34/40\n",
            "665/665 [==============================] - 81s 122ms/step - loss: 0.2536 - accuracy: 0.9082 - val_loss: 1.1021 - val_accuracy: 0.7480\n",
            "Epoch 35/40\n",
            "665/665 [==============================] - 81s 121ms/step - loss: 0.2473 - accuracy: 0.9105 - val_loss: 1.1891 - val_accuracy: 0.7387\n",
            "Epoch 36/40\n",
            "665/665 [==============================] - 81s 122ms/step - loss: 0.2301 - accuracy: 0.9155 - val_loss: 1.1763 - val_accuracy: 0.7388\n",
            "Epoch 37/40\n",
            "665/665 [==============================] - 82s 123ms/step - loss: 0.2336 - accuracy: 0.9141 - val_loss: 1.2634 - val_accuracy: 0.7221\n",
            "Epoch 38/40\n",
            "665/665 [==============================] - 81s 122ms/step - loss: 0.2297 - accuracy: 0.9179 - val_loss: 1.1673 - val_accuracy: 0.7360\n",
            "Epoch 39/40\n",
            "665/665 [==============================] - 81s 122ms/step - loss: 0.2349 - accuracy: 0.9144 - val_loss: 1.4167 - val_accuracy: 0.7211\n",
            "Epoch 40/40\n",
            "665/665 [==============================] - 81s 122ms/step - loss: 0.2052 - accuracy: 0.9255 - val_loss: 1.2697 - val_accuracy: 0.7385\n",
            "313/313 [==============================] - 5s 17ms/step - loss: 1.3250 - accuracy: 0.7292\n"
          ],
          "name": "stdout"
        },
        {
          "output_type": "execute_result",
          "data": {
            "text/plain": [
              "[1.325036883354187, 0.729200005531311]"
            ]
          },
          "metadata": {
            "tags": []
          },
          "execution_count": 10
        }
      ]
    },
    {
      "cell_type": "code",
      "metadata": {
        "id": "q8aOYMJaFy1I",
        "colab_type": "code",
        "colab": {}
      },
      "source": [
        "import matplotlib.pyplot as plt"
      ],
      "execution_count": 11,
      "outputs": []
    },
    {
      "cell_type": "code",
      "metadata": {
        "id": "GalRWoxUFz6l",
        "colab_type": "code",
        "colab": {
          "base_uri": "https://localhost:8080/",
          "height": 545
        },
        "outputId": "ba06a50c-a72a-48a9-bd94-b60496e53441"
      },
      "source": [
        "plt.plot(hist.history['loss'])\n",
        "plt.title(\"loss history\")\n",
        "plt.show()\n",
        "\n",
        "plt.plot(hist.history['accuracy'])\n",
        "plt.title(\"acc history\")\n",
        "plt.show()"
      ],
      "execution_count": 12,
      "outputs": [
        {
          "output_type": "display_data",
          "data": {
            "image/png": "[encoded data removed]",
            "text/plain": [
              "<Figure size 432x288 with 1 Axes>"
            ]
          },
          "metadata": {
            "tags": [],
            "needs_background": "light"
          }
        },
        {
          "output_type": "display_data",
          "data": {
            "image/png": "[encoded data removed]",
            "text/plain": [
              "<Figure size 432x288 with 1 Axes>"
            ]
          },
          "metadata": {
            "tags": [],
            "needs_background": "light"
          }
        }
      ]
    }
  ]
}